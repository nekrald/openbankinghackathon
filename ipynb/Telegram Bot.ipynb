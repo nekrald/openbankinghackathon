{
 "cells": [
  {
   "cell_type": "code",
   "execution_count": 1,
   "metadata": {},
   "outputs": [
    {
     "name": "stdout",
     "output_type": "stream",
     "text": [
      "Collecting telepot\n",
      "  Downloading https://files.pythonhosted.org/packages/f6/a8/0ed945afd8064b850c1653816c16ebda1cf07d65fee228b6d1139a49cbbd/telepot-12.7.tar.gz (73kB)\n",
      "Requirement already satisfied: urllib3>=1.9.1 in c:\\programdata\\anaconda3\\lib\\site-packages (from telepot) (1.24.2)\n",
      "Collecting aiohttp>=3.0.0 (from telepot)\n",
      "  Downloading https://files.pythonhosted.org/packages/0b/b3/744a16bdaba2e4df90f6ff10b9ade9c2dce3f01d94848f3949aa4ce7868d/aiohttp-3.6.2-cp37-cp37m-win_amd64.whl (649kB)\n",
      "Collecting async-timeout<4.0,>=3.0 (from aiohttp>=3.0.0->telepot)\n",
      "  Downloading https://files.pythonhosted.org/packages/e1/1e/5a4441be21b0726c4464f3f23c8b19628372f606755a9d2e46c187e65ec4/async_timeout-3.0.1-py3-none-any.whl\n",
      "Requirement already satisfied: attrs>=17.3.0 in c:\\programdata\\anaconda3\\lib\\site-packages (from aiohttp>=3.0.0->telepot) (19.2.0)\n",
      "Collecting yarl<2.0,>=1.0 (from aiohttp>=3.0.0->telepot)\n",
      "  Downloading https://files.pythonhosted.org/packages/7d/dc/fb3617b3de980566b54b1ae59eb72fc72810350d7ed9164b26f155fa682d/yarl-1.3.0-cp37-cp37m-win_amd64.whl (121kB)\n",
      "Collecting multidict<5.0,>=4.5 (from aiohttp>=3.0.0->telepot)\n",
      "  Downloading https://files.pythonhosted.org/packages/46/3d/d67826b380060dd28b2efc4eb2b06f285e9884900d1d128e287a8a7270be/multidict-4.6.1-cp37-cp37m-win_amd64.whl (156kB)\n",
      "Requirement already satisfied: chardet<4.0,>=2.0 in c:\\programdata\\anaconda3\\lib\\site-packages (from aiohttp>=3.0.0->telepot) (3.0.4)\n",
      "Requirement already satisfied: idna>=2.0 in c:\\programdata\\anaconda3\\lib\\site-packages (from yarl<2.0,>=1.0->aiohttp>=3.0.0->telepot) (2.8)\n",
      "Building wheels for collected packages: telepot\n",
      "  Building wheel for telepot (setup.py): started\n",
      "  Building wheel for telepot (setup.py): finished with status 'done'\n",
      "  Created wheel for telepot: filename=telepot-12.7-cp37-none-any.whl size=57967 sha256=898dbca3797297c4259027d8ce024736e9d78c63da180ae0d67df50dba3799de\n",
      "  Stored in directory: C:\\Users\\user15adm\\AppData\\Local\\pip\\Cache\\wheels\\65\\17\\50\\983034e27e6b5d8dfc497a51b5b13d970d8018a83f47e6513a\n",
      "Successfully built telepot\n",
      "Installing collected packages: async-timeout, multidict, yarl, aiohttp, telepot\n",
      "Successfully installed aiohttp-3.6.2 async-timeout-3.0.1 multidict-4.6.1 telepot-12.7 yarl-1.3.0\n"
     ]
    }
   ],
   "source": [
    "!pip install telepot"
   ]
  },
  {
   "cell_type": "code",
   "execution_count": 2,
   "metadata": {},
   "outputs": [
    {
     "name": "stdout",
     "output_type": "stream",
     "text": [
      "{'id': 1032122116, 'is_bot': True, 'first_name': 'enable_obh_bot', 'username': 'enable_obh_bot'}\n"
     ]
    }
   ],
   "source": [
    "import telepot\n",
    "token='1032122116:AAFMa6ewEqjbV9cYsu34kekzLJZo7ITq3Jw'\n",
    "TelegramBot = telepot.Bot(token)\n",
    "print(TelegramBot.getMe())"
   ]
  },
  {
   "cell_type": "code",
   "execution_count": 3,
   "metadata": {},
   "outputs": [
    {
     "data": {
      "text/plain": [
       "[{'update_id': 176446573,\n",
       "  'message': {'message_id': 1,\n",
       "   'from': {'id': 843587996,\n",
       "    'is_bot': False,\n",
       "    'first_name': 'Q',\n",
       "    'last_name': 'Q',\n",
       "    'language_code': 'en'},\n",
       "   'chat': {'id': 843587996,\n",
       "    'first_name': 'Q',\n",
       "    'last_name': 'Q',\n",
       "    'type': 'private'},\n",
       "   'date': 1574521805,\n",
       "   'text': '/start',\n",
       "   'entities': [{'offset': 0, 'length': 6, 'type': 'bot_command'}]}}]"
      ]
     },
     "execution_count": 3,
     "metadata": {},
     "output_type": "execute_result"
    }
   ],
   "source": [
    "updates = TelegramBot.getUpdates()\n",
    "updates"
   ]
  },
  {
   "cell_type": "code",
   "execution_count": 4,
   "metadata": {},
   "outputs": [],
   "source": [
    "import telegram"
   ]
  },
  {
   "cell_type": "code",
   "execution_count": 5,
   "metadata": {},
   "outputs": [],
   "source": [
    "import logging\n",
    "\n",
    "from telegram.ext import Updater, CommandHandler, MessageHandler, Filters\n",
    "\n",
    "# Enable logging\n",
    "logging.basicConfig(format='%(asctime)s - %(name)s - %(levelname)s - %(message)s',\n",
    "                    level=logging.INFO)\n",
    "\n",
    "logger = logging.getLogger(__name__)\n",
    "\n",
    "\n",
    "# Define a few command handlers. These usually take the two arguments update and\n",
    "# context. Error handlers also receive the raised TelegramError object in error.\n",
    "def start(update, context):\n",
    "    \"\"\"Send a message when the command /start is issued.\"\"\"\n",
    "    update.message.reply_text('Hi!')\n",
    "\n",
    "\n",
    "def help(update, context):\n",
    "    \"\"\"Send a message when the command /help is issued.\"\"\"\n",
    "    update.message.reply_text('Help!')\n",
    "\n",
    "\n",
    "def echo(update, context):\n",
    "    \"\"\"Echo the user message.\"\"\"\n",
    "    update.message.reply_text(update.message.text)\n",
    "\n",
    "\n",
    "def error(update, context):\n",
    "    \"\"\"Log Errors caused by Updates.\"\"\"\n",
    "    logger.warning('Update \"%s\" caused error \"%s\"', update, context.error)\n",
    "\n",
    "\n",
    "def main():\n",
    "    \"\"\"Start the bot.\"\"\"\n",
    "    # Create the Updater and pass it your bot's token.\n",
    "    # Make sure to set use_context=True to use the new context based callbacks\n",
    "    # Post version 12 this will no longer be necessary\n",
    "    updater = Updater(token, use_context=True)\n",
    "\n",
    "    # Get the dispatcher to register handlers\n",
    "    dp = updater.dispatcher\n",
    "\n",
    "    # on different commands - answer in Telegram\n",
    "    dp.add_handler(CommandHandler(\"start\", start))\n",
    "    dp.add_handler(CommandHandler(\"help\", help))\n",
    "\n",
    "    # on noncommand i.e message - echo the message on Telegram\n",
    "    dp.add_handler(MessageHandler(Filters.text, echo))\n",
    "\n",
    "    # log all errors\n",
    "    dp.add_error_handler(error)\n",
    "\n",
    "    # Start the Bot\n",
    "    updater.start_polling()\n",
    "\n",
    "    # Run the bot until you press Ctrl-C or the process receives SIGINT,\n",
    "    # SIGTERM or SIGABRT. This should be used most of the time, since\n",
    "    # start_polling() is non-blocking and will stop the bot gracefully.\n",
    "    updater.idle()"
   ]
  },
  {
   "cell_type": "code",
   "execution_count": 6,
   "metadata": {},
   "outputs": [
    {
     "name": "stderr",
     "output_type": "stream",
     "text": [
      "2019-11-23 15:33:29,457 - telegram.ext.updater - INFO - Received signal 2 (SIGINT), stopping...\n"
     ]
    }
   ],
   "source": [
    "main()"
   ]
  },
  {
   "cell_type": "code",
   "execution_count": null,
   "metadata": {},
   "outputs": [],
   "source": []
  }
 ],
 "metadata": {
  "kernelspec": {
   "display_name": "Python 3",
   "language": "python",
   "name": "python3"
  },
  "language_info": {
   "codemirror_mode": {
    "name": "ipython",
    "version": 3
   },
   "file_extension": ".py",
   "mimetype": "text/x-python",
   "name": "python",
   "nbconvert_exporter": "python",
   "pygments_lexer": "ipython3",
   "version": "3.7.4"
  }
 },
 "nbformat": 4,
 "nbformat_minor": 2
}
